{
 "cells": [
  {
   "cell_type": "markdown",
   "source": [
    "# CNN baseline for MetaHate"
   ],
   "metadata": {
    "collapsed": false
   },
   "id": "5bdce7130ac6627e"
  },
  {
   "cell_type": "code",
   "execution_count": null,
   "outputs": [],
   "source": [
    "import pandas as pd\n",
    "\n",
    "from sklearn.model_selection import train_test_split\n",
    "from sklearn.metrics import classification_report, accuracy_score, f1_score\n",
    "\n",
    "from keras.models import Sequential\n",
    "from keras.layers import Dense, Embedding, Flatten\n",
    "from keras.preprocessing.text import Tokenizer\n",
    "from keras.preprocessing.sequence import pad_sequences"
   ],
   "metadata": {
    "collapsed": false
   },
   "id": "initial_id"
  },
  {
   "cell_type": "markdown",
   "source": [
    "## Reading the data"
   ],
   "metadata": {
    "collapsed": false
   },
   "id": "42dfc8963507f8ea"
  },
  {
   "cell_type": "code",
   "execution_count": null,
   "outputs": [],
   "source": [
    "data = pd.read_csv('/data/metahate.csv', sep='\\t', names=['label', 'text'])\n",
    "\n",
    "texts = data['text'].tolist()\n",
    "labels = data['label'].tolist()"
   ],
   "metadata": {
    "collapsed": false
   },
   "id": "b464897186e2ad59"
  },
  {
   "cell_type": "markdown",
   "source": [
    "## Splitting the data into training and testing sets"
   ],
   "metadata": {
    "collapsed": false
   },
   "id": "9147819c273e5072"
  },
  {
   "cell_type": "code",
   "execution_count": null,
   "outputs": [],
   "source": [
    "X_train, X_test, y_train, y_test = train_test_split(\n",
    "    texts,              # Input features (text data)\n",
    "    labels,             # Target labels corresponding to the input features\n",
    "    test_size=0.2,      # The proportion of the dataset to include in the test split (20% in this case)\n",
    "    random_state=42     # Seed for reproducibility (set to 42 in this case)\n",
    ")"
   ],
   "metadata": {
    "collapsed": false
   },
   "id": "650e6c006e5ad758"
  },
  {
   "cell_type": "markdown",
   "source": [
    "## Tokenizing the text data and convert to sequences"
   ],
   "metadata": {
    "collapsed": false
   },
   "id": "dfa36005d643cead"
  },
  {
   "cell_type": "code",
   "execution_count": null,
   "outputs": [],
   "source": [
    "tokenizer = Tokenizer()\n",
    "tokenizer.fit_on_texts(X_train)\n",
    "\n",
    "# Converting the training and testing text data into sequences of integers\n",
    "# Each word in the texts is replaced with its corresponding integer index obtained from the Tokenizer\n",
    "X_train_sequences = tokenizer.texts_to_sequences(X_train)\n",
    "X_test_sequences = tokenizer.texts_to_sequences(X_test)"
   ],
   "metadata": {
    "collapsed": false
   },
   "id": "1734826f265f6e05"
  },
  {
   "cell_type": "markdown",
   "source": [
    "## Padding sequences to ensure uniform length"
   ],
   "metadata": {
    "collapsed": false
   },
   "id": "3b43b0a36183f6cf"
  },
  {
   "cell_type": "code",
   "execution_count": null,
   "outputs": [],
   "source": [
    "# Setting the maximum length for sequences\n",
    "maxlen = 512\n",
    "\n",
    "# If a sequence is shorter than 'maxlen', it is padded with zeros at the beginning,\n",
    "# and if it is longer, it is truncated to match 'maxlen'\n",
    "X_train_padded = pad_sequences(X_train_sequences, maxlen=maxlen)\n",
    "X_test_padded = pad_sequences(X_test_sequences, maxlen=maxlen)"
   ],
   "metadata": {
    "collapsed": false
   },
   "id": "be6d7d9a7c24bd03"
  },
  {
   "cell_type": "markdown",
   "source": [
    "## Creating a simple neural network"
   ],
   "metadata": {
    "collapsed": false
   },
   "id": "14b279bd4082ef15"
  },
  {
   "cell_type": "code",
   "execution_count": null,
   "outputs": [],
   "source": [
    "# Creating a Sequential model\n",
    "model = Sequential()\n",
    "\n",
    "# Adding an Embedding layer to the model\n",
    "model.add(Embedding(\n",
    "    input_dim=len(tokenizer.word_index) + 1, # Size of the vocabulary (number of unique words + 1)\n",
    "    output_dim=64, # Dimension of the dense embedding\n",
    "    input_length=maxlen) # Length of input sequences (padded/truncated to 'maxlen')\n",
    ")\n",
    "\n",
    "# Flattening the 3D tensor output from the Embedding layer to a 2D tensor\n",
    "model.add(Flatten())\n",
    "\n",
    "# Adding a Dense layer with ReLU activation\n",
    "model.add(Dense(\n",
    "    64, # 64 units in the layer\n",
    "    activation='relu', # ReLU activation\n",
    "    input_dim=maxlen) # Specifies the input dimension (length of the flattened output from the previous layer)\n",
    ")\n",
    "\n",
    "# Adding the output layer with a single unit and sigmoid activation (for binary classification)\n",
    "model.add(Dense(1, activation='sigmoid'))"
   ],
   "metadata": {
    "collapsed": false
   },
   "id": "58774c9d206c1c35"
  },
  {
   "cell_type": "markdown",
   "source": [
    "\n",
    "## Compiling and training the model"
   ],
   "metadata": {
    "collapsed": false
   },
   "id": "3600272d95a09dba"
  },
  {
   "cell_type": "code",
   "execution_count": null,
   "outputs": [],
   "source": [
    "model.compile(\n",
    "    optimizer='adam', # 'adam' is chosen as the optimization algorithm, known for its efficiency in training neural networks\n",
    "    loss='binary_crossentropy', # 'binary_crossentropy' is selected as the loss function as we are performing a binary classification tasks\n",
    "    metrics=['accuracy'] # The model will be evaluated based on 'accuracy' during training\n",
    ")\n",
    "\n",
    "model.fit(\n",
    "    X_train_padded, # The padded sequences of input features\n",
    "    y_train, # The corresponding target labels for the training data\n",
    "    epochs=1, # Number of times the entire training dataset is passed through the neural network\n",
    "    batch_size=32, # Number of samples processed in each iteration (updating the model weights)\n",
    "    validation_split=0.2 # The fraction of the training data to be used as validation data during training\n",
    ")"
   ],
   "metadata": {
    "collapsed": false
   },
   "id": "634fd225a8b1c842"
  },
  {
   "cell_type": "markdown",
   "source": [
    "## Evaluating the model on the test set"
   ],
   "metadata": {
    "collapsed": false
   },
   "id": "1526f38ca177aa91"
  },
  {
   "cell_type": "code",
   "execution_count": null,
   "outputs": [],
   "source": [
    "# Obtaining raw predictions for the test set by thresholding the predictions at 0.5 and converting boolean values to integers (0 or 1)\n",
    "predictions = (model.predict(X_test_padded) > 0.5).astype(int).flatten()"
   ],
   "metadata": {
    "collapsed": false
   },
   "id": "ed582d11591e3808"
  },
  {
   "cell_type": "markdown",
   "source": [
    "## Calculating the metrics"
   ],
   "metadata": {
    "collapsed": false
   },
   "id": "edeb6c5a4ca79166"
  },
  {
   "cell_type": "code",
   "execution_count": null,
   "outputs": [],
   "source": [
    "accuracy = accuracy_score(y_test, predictions)\n",
    "report = classification_report(y_test, predictions)\n",
    "weighted_f1 = f1_score(y_test, predictions, average='weighted')\n",
    "micro_f1 = f1_score(y_test, predictions, average='micro')\n",
    "macro_f1 = f1_score(y_test, predictions, average='macro')\n",
    "\n",
    "print(f\"Accuracy: {accuracy}\")\n",
    "print(\"Classification Report:\\n\", report)\n",
    "print(f\"Weighted F1 Score: {weighted_f1}\")\n",
    "print(f\"Micro F1 Score: {micro_f1}\")\n",
    "print(f\"Macro F1 Score: {macro_f1}\")"
   ],
   "metadata": {
    "collapsed": false
   },
   "id": "8b61373fe2b3fa2f"
  }
 ],
 "metadata": {
  "kernelspec": {
   "display_name": "Python 3",
   "language": "python",
   "name": "python3"
  },
  "language_info": {
   "codemirror_mode": {
    "name": "ipython",
    "version": 2
   },
   "file_extension": ".py",
   "mimetype": "text/x-python",
   "name": "python",
   "nbconvert_exporter": "python",
   "pygments_lexer": "ipython2",
   "version": "2.7.6"
  }
 },
 "nbformat": 4,
 "nbformat_minor": 5
}
