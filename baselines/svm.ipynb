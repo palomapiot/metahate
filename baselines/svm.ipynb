{
 "cells": [
  {
   "cell_type": "markdown",
   "source": [
    "# SVM baseline for MetaHate"
   ],
   "metadata": {
    "collapsed": false
   },
   "id": "5bdce7130ac6627e"
  },
  {
   "cell_type": "code",
   "execution_count": null,
   "outputs": [],
   "source": [
    "from tqdm import tqdm\n",
    "from sklearn.model_selection import train_test_split\n",
    "from sklearn.feature_extraction.text import TfidfVectorizer\n",
    "from sklearn.svm import LinearSVC\n",
    "from sklearn.metrics import accuracy_score, classification_report, f1_score\n",
    "\n",
    "import pandas as pd"
   ],
   "metadata": {
    "collapsed": false
   },
   "id": "initial_id"
  },
  {
   "cell_type": "markdown",
   "source": [
    "## Read Data"
   ],
   "metadata": {
    "collapsed": false
   },
   "id": "42dfc8963507f8ea"
  },
  {
   "cell_type": "code",
   "execution_count": null,
   "outputs": [],
   "source": [
    "data = pd.read_csv('/data/metahate.csv', sep='\\t', names=['label', 'text'])\n",
    "\n",
    "texts = data['text'].tolist()\n",
    "labels = data['label'].tolist()"
   ],
   "metadata": {
    "collapsed": false
   },
   "id": "b464897186e2ad59"
  },
  {
   "cell_type": "markdown",
   "source": [
    "## Split the data into training and testing sets"
   ],
   "metadata": {
    "collapsed": false
   },
   "id": "9147819c273e5072"
  },
  {
   "cell_type": "code",
   "execution_count": null,
   "outputs": [],
   "source": [
    "X_train, X_test, y_train, y_test = train_test_split(\n",
    "    texts,              # Input features (text data)\n",
    "    labels,             # Target labels corresponding to the input features\n",
    "    test_size=0.2,      # The proportion of the dataset to include in the test split (20% in this case)\n",
    "    random_state=42     # Seed for reproducibility (set to 42 in this case)\n",
    ")"
   ],
   "metadata": {
    "collapsed": false
   },
   "id": "650e6c006e5ad758"
  },
  {
   "cell_type": "markdown",
   "source": [
    "## Create a TF-IDF vectorizer for text data"
   ],
   "metadata": {
    "collapsed": false
   },
   "id": "dfa36005d643cead"
  },
  {
   "cell_type": "code",
   "execution_count": null,
   "outputs": [],
   "source": [
    "vectorizer = TfidfVectorizer(\n",
    "    max_features=10000000,     # Maximum number of features to consider\n",
    "    ngram_range=(1, 1),        # Considering unigrams (single words)\n",
    "    stop_words='english',      # Ignoring common English stop words\n",
    "    sublinear_tf=True,         # Applying sublinear scaling to term frequency\n",
    "    use_idf=True               # Using Inverse Document Frequency (IDF)\n",
    ")"
   ],
   "metadata": {
    "collapsed": false
   },
   "id": "1734826f265f6e05"
  },
  {
   "cell_type": "markdown",
   "source": [
    "## Fit and transform the training and testing data"
   ],
   "metadata": {
    "collapsed": false
   },
   "id": "3b43b0a36183f6cf"
  },
  {
   "cell_type": "code",
   "execution_count": null,
   "outputs": [],
   "source": [
    "X_train_vectorized = vectorizer.fit_transform(tqdm(X_train, desc='Fitting and transforming training data'))\n",
    "X_test_vectorized = vectorizer.transform(tqdm(X_test, desc='Transforming testing data'))"
   ],
   "metadata": {
    "collapsed": false
   },
   "id": "be6d7d9a7c24bd03"
  },
  {
   "cell_type": "markdown",
   "source": [
    "## Create and train the SVM model"
   ],
   "metadata": {
    "collapsed": false
   },
   "id": "14b279bd4082ef15"
  },
  {
   "cell_type": "code",
   "execution_count": null,
   "outputs": [],
   "source": [
    "svm_model = LinearSVC(random_state=0, tol=1e-5)\n",
    "svm_model.fit(X_train_vectorized, y_train)"
   ],
   "metadata": {
    "collapsed": false
   },
   "id": "58774c9d206c1c35"
  },
  {
   "cell_type": "markdown",
   "source": [
    "\n",
    "## Make predictions on the test set"
   ],
   "metadata": {
    "collapsed": false
   },
   "id": "3600272d95a09dba"
  },
  {
   "cell_type": "code",
   "execution_count": null,
   "outputs": [],
   "source": [
    "predictions = svm_model.predict(X_test_vectorized)"
   ],
   "metadata": {
    "collapsed": false
   },
   "id": "634fd225a8b1c842"
  },
  {
   "cell_type": "markdown",
   "source": [
    "## Evaluate the model"
   ],
   "metadata": {
    "collapsed": false
   },
   "id": "edeb6c5a4ca79166"
  },
  {
   "cell_type": "code",
   "execution_count": null,
   "outputs": [],
   "source": [
    "accuracy = accuracy_score(y_test, predictions)\n",
    "report = classification_report(y_test, predictions)\n",
    "micro_f1 = f1_score(y_test, predictions, average='micro')\n",
    "macro_f1 = f1_score(y_test, predictions, average='macro')\n",
    "f1_default = f1_score(y_test, predictions, average='weighted')\n",
    "\n",
    "print(f\"Accuracy: {accuracy}\")\n",
    "print(\"Classification Report:\\n\", report)\n",
    "print(f\"Micro F1 Score: {micro_f1}\")\n",
    "print(f\"Macro F1 Score: {macro_f1}\")\n",
    "print(f\"Default (Weighted) F1 Score: {f1_default}\")"
   ],
   "metadata": {
    "collapsed": false
   },
   "id": "8b61373fe2b3fa2f"
  }
 ],
 "metadata": {
  "kernelspec": {
   "display_name": "Python 3",
   "language": "python",
   "name": "python3"
  },
  "language_info": {
   "codemirror_mode": {
    "name": "ipython",
    "version": 2
   },
   "file_extension": ".py",
   "mimetype": "text/x-python",
   "name": "python",
   "nbconvert_exporter": "python",
   "pygments_lexer": "ipython2",
   "version": "2.7.6"
  }
 },
 "nbformat": 4,
 "nbformat_minor": 5
}
