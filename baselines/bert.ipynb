{
 "cells": [
  {
   "cell_type": "markdown",
   "source": [
    "# BERT baseline for MetaHate"
   ],
   "metadata": {
    "collapsed": false
   },
   "id": "5bdce7130ac6627e"
  },
  {
   "cell_type": "code",
   "execution_count": null,
   "outputs": [],
   "source": [
    "import pandas as pd\n",
    "\n",
    "from sklearn.model_selection import train_test_split\n",
    "from sklearn.metrics import classification_report, accuracy_score, f1_score\n",
    "\n",
    "import torch\n",
    "import torch.nn as nn\n",
    "from torch.utils.data import DataLoader, TensorDataset\n",
    "from torch.optim import AdamW\n",
    "\n",
    "from transformers import BertTokenizer, BertForSequenceClassification\n",
    "from tqdm import tqdm"
   ],
   "metadata": {
    "collapsed": false
   },
   "id": "initial_id"
  },
  {
   "cell_type": "markdown",
   "source": [
    "## Reading the data"
   ],
   "metadata": {
    "collapsed": false
   },
   "id": "42dfc8963507f8ea"
  },
  {
   "cell_type": "code",
   "execution_count": null,
   "outputs": [],
   "source": [
    "data = pd.read_csv('/data/metahate.csv', sep='\\t', names=['label', 'text'])\n",
    "\n",
    "texts = data['text'].tolist()\n",
    "labels = data['label'].tolist()"
   ],
   "metadata": {
    "collapsed": false
   },
   "id": "b464897186e2ad59"
  },
  {
   "cell_type": "markdown",
   "source": [
    "## Splitting the data into training and testing sets"
   ],
   "metadata": {
    "collapsed": false
   },
   "id": "9147819c273e5072"
  },
  {
   "cell_type": "code",
   "execution_count": null,
   "outputs": [],
   "source": [
    "X_train, X_test, y_train, y_test = train_test_split(\n",
    "    texts,              # Input features (text data)\n",
    "    labels,             # Target labels corresponding to the input features\n",
    "    test_size=0.2,      # The proportion of the dataset to include in the test split (20% in this case)\n",
    "    random_state=42     # Seed for reproducibility (set to 42 in this case)\n",
    ")"
   ],
   "metadata": {
    "collapsed": false
   },
   "id": "650e6c006e5ad758"
  },
  {
   "cell_type": "markdown",
   "source": [
    "## Loading BERT model"
   ],
   "metadata": {
    "collapsed": false
   },
   "id": "8ec6241911479d96"
  },
  {
   "cell_type": "code",
   "execution_count": null,
   "outputs": [],
   "source": [
    "model_name = 'bert-base-uncased'\n",
    "tokenizer = BertTokenizer.from_pretrained(model_name)\n",
    "\n",
    "model = BertForSequenceClassification.from_pretrained(\n",
    "    model_name, \n",
    "    num_labels=2 # Configuring the model for binary classification (2 labels)\n",
    ")"
   ],
   "metadata": {
    "collapsed": false
   },
   "id": "ee15ebafeab8edbc"
  },
  {
   "cell_type": "markdown",
   "source": [
    "## Tokenizing the training and testing data"
   ],
   "metadata": {
    "collapsed": false
   },
   "id": "dfa36005d643cead"
  },
  {
   "cell_type": "code",
   "execution_count": null,
   "outputs": [],
   "source": [
    "X_train_tokens = tokenizer(\n",
    "    X_train.tolist(), \n",
    "    padding=True, # Padding the sequences to ensure uniform length\n",
    "    truncation=True, # Truncating sequences to the maximum length supported by the model\n",
    "    return_tensors='pt' # Returning PyTorch tensors as the output\n",
    ")\n",
    "\n",
    "X_test_tokens = tokenizer(\n",
    "    X_test.tolist(), \n",
    "    padding=True, # Padding the sequences to ensure uniform length\n",
    "    truncation=True, # Truncating sequences to the maximum length supported by the model\n",
    "    return_tensors='pt' # Returning PyTorch tensors as the output\n",
    ")"
   ],
   "metadata": {
    "collapsed": false
   },
   "id": "1734826f265f6e05"
  },
  {
   "cell_type": "markdown",
   "source": [
    "## Converting the training and testing labels to PyTorch tensors"
   ],
   "metadata": {
    "collapsed": false
   },
   "id": "6cd9e508d82cf566"
  },
  {
   "cell_type": "code",
   "execution_count": null,
   "outputs": [],
   "source": [
    "y_train_tensor = torch.tensor(y_train.tolist())\n",
    "y_test_tensor = torch.tensor(y_test.tolist())"
   ],
   "metadata": {
    "collapsed": false
   },
   "id": "1202a97f916ea07a"
  },
  {
   "cell_type": "markdown",
   "source": [
    "## Defining class weights for imbalanced classes"
   ],
   "metadata": {
    "collapsed": false
   },
   "id": "ba84e4fe14433ee2"
  },
  {
   "cell_type": "code",
   "execution_count": null,
   "outputs": [],
   "source": [
    "class_weights = torch.tensor([0.63, 2.42]) # Hate texts have a higher weight as are only the 20.64% of the data.\n",
    "loss_function = nn.CrossEntropyLoss(weight=class_weights)"
   ],
   "metadata": {
    "collapsed": false
   },
   "id": "aa0c74b96c296128"
  },
  {
   "cell_type": "markdown",
   "source": [
    "## Creating PyTorch TensorDatasets and DataLoaders for training and testing sets"
   ],
   "metadata": {
    "collapsed": false
   },
   "id": "3b43b0a36183f6cf"
  },
  {
   "cell_type": "code",
   "execution_count": null,
   "outputs": [],
   "source": [
    "train_dataset = TensorDataset(X_train_tokens['input_ids'], X_train_tokens['attention_mask'], y_train_tensor)\n",
    "test_dataset = TensorDataset(X_test_tokens['input_ids'], X_test_tokens['attention_mask'], y_test_tensor)\n",
    "\n",
    "train_dataloader = DataLoader(train_dataset, batch_size=32, shuffle=True)\n",
    "test_dataloader = DataLoader(test_dataset, batch_size=32, shuffle=False)"
   ],
   "metadata": {
    "collapsed": false
   },
   "id": "be6d7d9a7c24bd03"
  },
  {
   "cell_type": "markdown",
   "source": [
    "## Training"
   ],
   "metadata": {
    "collapsed": false
   },
   "id": "14b279bd4082ef15"
  },
  {
   "cell_type": "code",
   "execution_count": null,
   "outputs": [],
   "source": [
    "optimizer = AdamW(model.parameters(), lr=5e-5) # Setting up AdamW optimizer for model parameters with a learning rate of 5e-5\n",
    "\n",
    "# Checking for the availability of a GPU and moving the model to the appropriate device\n",
    "device = torch.device(\"cuda\" if torch.cuda.is_available() else \"cpu\")\n",
    "model.to(device)\n",
    "\n",
    "num_epochs = 3\n",
    "\n",
    "# Training through 3 epochs\n",
    "for epoch in range(num_epochs):\n",
    "    model.train()\n",
    "    total_loss = 0\n",
    "    \n",
    "    # Iterating over batches in the training data\n",
    "    for batch in tqdm(train_dataloader, desc=f'Epoch {epoch + 1}/{num_epochs}'):\n",
    "        input_ids, attention_mask, labels = batch\n",
    "        input_ids, attention_mask, labels = input_ids.to(device), attention_mask.to(device), labels.to(device)\n",
    "\n",
    "        optimizer.zero_grad()\n",
    "        outputs = model(input_ids, attention_mask=attention_mask, labels=labels)\n",
    "        loss = loss_function(outputs.logits, labels)\n",
    "        loss.backward()\n",
    "        optimizer.step()\n",
    "        total_loss += loss.item()\n",
    "\n",
    "    average_loss = total_loss / len(train_dataloader)\n",
    "    print(f'Training Loss: {average_loss}')"
   ],
   "metadata": {
    "collapsed": false
   },
   "id": "58774c9d206c1c35"
  },
  {
   "cell_type": "markdown",
   "source": [
    "\n",
    "## Evaluate"
   ],
   "metadata": {
    "collapsed": false
   },
   "id": "3600272d95a09dba"
  },
  {
   "cell_type": "code",
   "execution_count": null,
   "outputs": [],
   "source": [
    "model.eval()\n",
    "all_predictions = []\n",
    "with torch.no_grad(): # Disabling gradient computation during evaluation\n",
    "    \n",
    "    # Iterating over batches in the testing dataloader\n",
    "    for batch in tqdm(test_dataloader, desc='Evaluating'):\n",
    "        input_ids, attention_mask, labels = batch\n",
    "        input_ids, attention_mask, labels = input_ids.to(device), attention_mask.to(device), labels.to(device)\n",
    "\n",
    "        outputs = model(input_ids, attention_mask=attention_mask)\n",
    "        logits = outputs.logits\n",
    "        predictions = torch.argmax(logits, dim=1).cpu().numpy()\n",
    "        all_predictions.extend(predictions)"
   ],
   "metadata": {
    "collapsed": false
   },
   "id": "634fd225a8b1c842"
  },
  {
   "cell_type": "markdown",
   "source": [
    "## Evaluate the model"
   ],
   "metadata": {
    "collapsed": false
   },
   "id": "edeb6c5a4ca79166"
  },
  {
   "cell_type": "code",
   "execution_count": null,
   "outputs": [],
   "source": [
    "accuracy = accuracy_score(y_test, all_predictions)\n",
    "report = classification_report(y_test, all_predictions)\n",
    "weighted_f1 = f1_score(y_test, all_predictions, average='weighted')\n",
    "micro_f1 = f1_score(y_test, all_predictions, average='micro')\n",
    "macro_f1 = f1_score(y_test, all_predictions, average='macro')\n",
    "\n",
    "print(f\"Accuracy: {accuracy}\")\n",
    "print(\"Classification Report:\\n\", report)\n",
    "print(f\"Weighted F1 Score: {weighted_f1}\")\n",
    "print(f\"Micro F1 Score: {micro_f1}\")\n",
    "print(f\"Macro F1 Score: {macro_f1}\")"
   ],
   "metadata": {
    "collapsed": false
   },
   "id": "8b61373fe2b3fa2f"
  }
 ],
 "metadata": {
  "kernelspec": {
   "display_name": "Python 3",
   "language": "python",
   "name": "python3"
  },
  "language_info": {
   "codemirror_mode": {
    "name": "ipython",
    "version": 2
   },
   "file_extension": ".py",
   "mimetype": "text/x-python",
   "name": "python",
   "nbconvert_exporter": "python",
   "pygments_lexer": "ipython2",
   "version": "2.7.6"
  }
 },
 "nbformat": 4,
 "nbformat_minor": 5
}
