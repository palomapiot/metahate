{
 "cells": [
  {
   "cell_type": "markdown",
   "source": [
    "# Linguistic Analysis: verbs usage"
   ],
   "metadata": {
    "collapsed": false
   },
   "id": "f6aa49795f8ff4ea"
  },
  {
   "cell_type": "code",
   "execution_count": null,
   "outputs": [],
   "source": [
    "!pip install spacy"
   ],
   "metadata": {
    "collapsed": false,
    "is_executing": true
   },
   "id": "7ddb941d9769558f"
  },
  {
   "cell_type": "code",
   "execution_count": null,
   "outputs": [],
   "source": [
    "!python -m spacy download en_core_web_sm"
   ],
   "metadata": {
    "collapsed": false,
    "is_executing": true
   },
   "id": "3807bd195ed4f8b5"
  },
  {
   "cell_type": "code",
   "execution_count": null,
   "outputs": [],
   "source": [
    "import pandas as pd\n",
    "\n",
    "import spacy\n",
    "from tqdm import tqdm\n",
    "\n",
    "nlp = spacy.load(\"en_core_web_sm\")"
   ],
   "metadata": {
    "collapsed": false
   },
   "id": "6d2bf74f9c0e15ac"
  },
  {
   "cell_type": "markdown",
   "source": [
    "## Reading the data"
   ],
   "metadata": {
    "collapsed": false
   },
   "id": "bcd937290ee194f"
  },
  {
   "cell_type": "code",
   "execution_count": null,
   "outputs": [],
   "source": [
    "data = pd.read_csv('/data/metahate.csv', sep='\\t', names=['label', 'text'])\n",
    "\n",
    "text_hate = data.loc[data['label'] == 1, 'text'].tolist()\n",
    "text_no_hate = data.loc[data['label'] == 0, 'text'].tolist()"
   ],
   "metadata": {
    "collapsed": false
   },
   "id": "50320b52fab51b29"
  },
  {
   "cell_type": "markdown",
   "source": [
    "## Function for counting verbs in text"
   ],
   "metadata": {
    "collapsed": false
   },
   "id": "d67d8fc9e9f62366"
  },
  {
   "cell_type": "code",
   "execution_count": null,
   "outputs": [],
   "source": [
    "def get_verb_counts(text):\n",
    "    \"\"\"\n",
    "    Count the occurrences of past, present, and future tense verbs in the given text.\n",
    "\n",
    "    Parameters:\n",
    "    - text (str): Input text to analyze.\n",
    "\n",
    "    Returns:\n",
    "    Tuple[int, int, int]: A tuple containing counts of past, present, and future tense verbs.\n",
    "    \"\"\"\n",
    "    past_count, present_count, future_count = 0, 0, 0\n",
    "    doc = nlp(text)\n",
    "    \n",
    "    for token in doc:\n",
    "        # Checking the part-of-speech tag of each token\n",
    "        if token.tag_ == \"VBD\":  # Past tense\n",
    "            past_count += 1\n",
    "        elif token.tag_ == \"VBP\" or token.tag_ == \"VBZ\":  # Present tense\n",
    "            present_count += 1\n",
    "        elif token.tag_ == \"MD\":  # Modal (indicating future)\n",
    "            future_count += 1\n",
    "\n",
    "    return  past_count, present_count, future_count"
   ],
   "metadata": {
    "collapsed": false
   },
   "id": "e198b9a0ab624c26"
  },
  {
   "cell_type": "markdown",
   "source": [
    "## Processing the text data"
   ],
   "metadata": {
    "collapsed": false
   },
   "id": "37be4d17ea8bb1a5"
  },
  {
   "cell_type": "code",
   "execution_count": null,
   "outputs": [],
   "source": [
    "total_past_count, total_present_count, total_future_count = 0, 0, 0\n",
    "\n",
    "# Iterating through each text in the 'text_hate' list (and 'text_no_hate' later)\n",
    "for text in tqdm(text_hate):\n",
    "    past_count, present_count, future_count = get_verb_counts(text)\n",
    "    \n",
    "    total_past_count += past_count\n",
    "    total_present_count += present_count\n",
    "    total_future_count += future_count"
   ],
   "metadata": {
    "collapsed": false
   },
   "id": "15ec5c5207e29ccf"
  },
  {
   "cell_type": "markdown",
   "source": [
    "## Calculating the total count and the percentages of each verb tense"
   ],
   "metadata": {
    "collapsed": false
   },
   "id": "40037b8006177a41"
  },
  {
   "cell_type": "code",
   "execution_count": null,
   "outputs": [],
   "source": [
    "total_verbs = total_past_count + total_present_count + total_future_count\n",
    "\n",
    "past_percentage = (total_past_count / total_verbs) * 100\n",
    "present_percentage = (total_present_count / total_verbs) * 100\n",
    "future_percentage = (total_future_count / total_verbs) * 100"
   ],
   "metadata": {
    "collapsed": false
   },
   "id": "264c3a17c5b3cfaa"
  },
  {
   "cell_type": "markdown",
   "source": [
    "## Printing metrics"
   ],
   "metadata": {
    "collapsed": false
   },
   "id": "2e913331063f2a92"
  },
  {
   "cell_type": "code",
   "execution_count": null,
   "outputs": [],
   "source": [
    "print(f\"Total Verbs: {total_verbs}\")\n",
    "print(f\"Past Tense Percentage: {past_percentage:.2f}%\")\n",
    "print(f\"Present Tense Percentage: {present_percentage:.2f}%\")\n",
    "print(f\"Future Tense Percentage: {future_percentage:.2f}%\")"
   ],
   "metadata": {
    "collapsed": false
   },
   "id": "bd240c54d61054ea"
  }
 ],
 "metadata": {
  "kernelspec": {
   "display_name": "Python 3",
   "language": "python",
   "name": "python3"
  },
  "language_info": {
   "codemirror_mode": {
    "name": "ipython",
    "version": 2
   },
   "file_extension": ".py",
   "mimetype": "text/x-python",
   "name": "python",
   "nbconvert_exporter": "python",
   "pygments_lexer": "ipython2",
   "version": "2.7.6"
  }
 },
 "nbformat": 4,
 "nbformat_minor": 5
}
