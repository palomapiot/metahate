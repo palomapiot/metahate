{
 "cells": [
  {
   "cell_type": "markdown",
   "source": [
    "# Plutchik set of emotions "
   ],
   "metadata": {
    "collapsed": false
   },
   "id": "75ae90b965c71ec5"
  },
  {
   "cell_type": "code",
   "execution_count": null,
   "outputs": [],
   "source": [
    "import pandas as pd\n",
    "\n",
    "import numpy as np\n",
    "import matplotlib.pyplot as plt\n",
    "from textblob import TextBlob\n",
    "from nrclex import NRCLex"
   ],
   "metadata": {
    "collapsed": false
   },
   "id": "d625d58e2ea95d7b"
  },
  {
   "cell_type": "markdown",
   "source": [
    "## Reading the data"
   ],
   "metadata": {
    "collapsed": false
   },
   "id": "a0fe04b8161b3ad0"
  },
  {
   "cell_type": "code",
   "execution_count": null,
   "outputs": [],
   "source": [
    "data = pd.read_csv('/data/metahate.csv', sep='\\t', names=['label', 'text'])\n",
    "\n",
    "text_hate = data.loc[data['label'] == 1, 'text'].tolist()\n",
    "text_no_hate = data.loc[data['label'] == 0, 'text'].tolist()"
   ],
   "metadata": {
    "collapsed": false
   },
   "id": "18774b91cdac09be"
  },
  {
   "cell_type": "markdown",
   "source": [
    "## Creating NRCLex objects to analyze emotions in hate and non-hate texts"
   ],
   "metadata": {
    "collapsed": false
   },
   "id": "a693093bc30dc47a"
  },
  {
   "cell_type": "code",
   "execution_count": null,
   "outputs": [],
   "source": [
    "emotion_hate = NRCLex(' '.join(text_hate))\n",
    "emotion_no_hate = NRCLex(' '.join(text_no_hate))"
   ],
   "metadata": {
    "collapsed": false
   },
   "id": "a3c4fc2e2da907e3"
  },
  {
   "cell_type": "markdown",
   "source": [
    "## Calculating emotion percentages for hate and non-hate texts"
   ],
   "metadata": {
    "collapsed": false
   },
   "id": "a510ff5dab6728a8"
  },
  {
   "cell_type": "code",
   "execution_count": null,
   "outputs": [],
   "source": [
    "blob_hate = TextBlob(' '.join(text_hate))\n",
    "sentences_hate = list(blob_hate.sentences)\n",
    "emotion_hate_percentage = {key: value / len(sentences_hate) for key, value in emotion_hate.raw_emotion_scores.items()}\n",
    "\n",
    "blob_no_hate = TextBlob(' '.join(text_no_hate))\n",
    "sentences_no_hate = list(blob_no_hate.sentences)\n",
    "emotion_no_hate_percentage = {key: value / len(sentences_no_hate) for key, value in emotion_no_hate.raw_emotion_scores.items()}"
   ],
   "metadata": {
    "collapsed": false
   },
   "id": "b69c4587d65ade8"
  },
  {
   "cell_type": "markdown",
   "source": [
    "## Sorting the hate and non-hate emotion percentages by category name and sorting the category list names"
   ],
   "metadata": {
    "collapsed": false
   },
   "id": "39403ee5bacdc6cb"
  },
  {
   "cell_type": "code",
   "execution_count": null,
   "outputs": [],
   "source": [
    "hate_sorted = dict(sorted(emotion_hate_percentage.items(), key=lambda item: item[0]))\n",
    "no_hate_sorted = dict(sorted(emotion_no_hate_percentage.items(), key=lambda item: item[0]))\n",
    "categories = sorted(['fear','anger','anticipation', 'trust', 'surprise', 'positive', 'negative', 'sadness', 'disgust', 'joy'])"
   ],
   "metadata": {
    "collapsed": false
   },
   "id": "4258de6189e8007f"
  },
  {
   "cell_type": "code",
   "execution_count": null,
   "outputs": [],
   "source": [
    "def radar_plot(categories, hate, nohate, title):\n",
    "    \"\"\"\n",
    "    Create a radar plot to visualize emotion percentages for hate and non-hate texts.\n",
    "\n",
    "    Parameters:\n",
    "    - categories (list): A list of emotion categories.\n",
    "    - hate (list): A list of emotion percentages for hate texts.\n",
    "    - nohate (list): A list of emotion percentages for no-hate texts.\n",
    "    - title (str): The title of the radar plot.\n",
    "\n",
    "    Returns:\n",
    "    None (displays the radar plot).\n",
    "    \"\"\"\n",
    "    num_categories = len(categories)\n",
    "    angles = np.linspace(0, 2 * np.pi, num_categories, endpoint=False).tolist()\n",
    "\n",
    "    fig, ax = plt.subplots(figsize=(6, 6), subplot_kw=dict(polar=True))\n",
    "    \n",
    "    ax.fill(angles, hate, color='#7d7d7d', alpha=0.5, label='Hate')\n",
    "    ax.fill(angles, nohate, color='#3d3d3d', alpha=0.5, label='No hate')\n",
    "\n",
    "    num_ticks = len(categories)\n",
    "    tick_locs = np.linspace(0, 360, num_ticks, endpoint=False)\n",
    "    \n",
    "    ax.set_thetagrids(tick_locs, categories, fontsize=12)\n",
    "    ax.xaxis.set_tick_params(pad=15)\n",
    "    \n",
    "    ax.set_title(title)\n",
    "    ax.legend(fontsize=12)\n",
    "    \n",
    "    plt.yticks([0.2,0.4,0.6,0.8,1], [\"20%\",\"40%\", \"60%\", \"80%\",\"100%\"], color=\"grey\", size=9, fontweight=\"bold\")\n",
    "    plt.show()"
   ],
   "metadata": {
    "collapsed": false
   },
   "id": "43402d8c80a8f149"
  },
  {
   "cell_type": "markdown",
   "source": [
    "## Displaying the plot"
   ],
   "metadata": {
    "collapsed": false
   },
   "id": "e12e692c288822fe"
  },
  {
   "cell_type": "code",
   "execution_count": null,
   "outputs": [],
   "source": [
    "radar_plot(categories, list(hate_sorted.values()), list(no_hate_sorted.values()), 'Hate Speech Emotions')"
   ],
   "metadata": {
    "collapsed": false
   },
   "id": "acf34eaf2d984481"
  },
  {
   "cell_type": "markdown",
   "source": [],
   "metadata": {
    "collapsed": false
   },
   "id": "557b7dfbedf5f688"
  }
 ],
 "metadata": {
  "kernelspec": {
   "display_name": "Python 3",
   "language": "python",
   "name": "python3"
  },
  "language_info": {
   "codemirror_mode": {
    "name": "ipython",
    "version": 2
   },
   "file_extension": ".py",
   "mimetype": "text/x-python",
   "name": "python",
   "nbconvert_exporter": "python",
   "pygments_lexer": "ipython2",
   "version": "2.7.6"
  }
 },
 "nbformat": 4,
 "nbformat_minor": 5
}
