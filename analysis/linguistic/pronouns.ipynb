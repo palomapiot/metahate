{
 "cells": [
  {
   "cell_type": "markdown",
   "source": [
    "# Linguistic Analysis: pronouns usage"
   ],
   "metadata": {
    "collapsed": false
   },
   "id": "f6aa49795f8ff4ea"
  },
  {
   "cell_type": "code",
   "execution_count": null,
   "outputs": [],
   "source": [
    "!pip install spacy"
   ],
   "metadata": {
    "collapsed": false,
    "is_executing": true
   },
   "id": "7ddb941d9769558f"
  },
  {
   "cell_type": "code",
   "execution_count": null,
   "outputs": [],
   "source": [
    "!python -m spacy download en_core_web_sm"
   ],
   "metadata": {
    "collapsed": false,
    "is_executing": true
   },
   "id": "3807bd195ed4f8b5"
  },
  {
   "cell_type": "code",
   "execution_count": null,
   "outputs": [],
   "source": [
    "import pandas as pd\n",
    "\n",
    "import spacy\n",
    "from tqdm import tqdm\n",
    "from collections import Counter\n",
    "\n",
    "nlp = spacy.load(\"en_core_web_sm\")"
   ],
   "metadata": {
    "collapsed": false
   },
   "id": "6d2bf74f9c0e15ac"
  },
  {
   "cell_type": "markdown",
   "source": [
    "## Reading the data"
   ],
   "metadata": {
    "collapsed": false
   },
   "id": "bcd937290ee194f"
  },
  {
   "cell_type": "code",
   "execution_count": null,
   "outputs": [],
   "source": [
    "data = pd.read_csv('/data/metahate.csv', sep='\\t', names=['label', 'text'])\n",
    "\n",
    "text_hate = data.loc[data['label'] == 1, 'text'].tolist()\n",
    "text_no_hate = data.loc[data['label'] == 0, 'text'].tolist()"
   ],
   "metadata": {
    "collapsed": false
   },
   "id": "50320b52fab51b29"
  },
  {
   "cell_type": "markdown",
   "source": [
    "## Function for counting verbs in text"
   ],
   "metadata": {
    "collapsed": false
   },
   "id": "d67d8fc9e9f62366"
  },
  {
   "cell_type": "code",
   "execution_count": null,
   "outputs": [],
   "source": [
    "def get_pronouns_counts(text):\n",
    "    \"\"\"\n",
    "    Count the occurrences of first-person singular, first-person plural, second person, third-person singular, and third-person plural pronouns in the given text.\n",
    "\n",
    "    Parameters:\n",
    "    - text (str): Input text to analyze.\n",
    "\n",
    "    Returns:\n",
    "    Tuple[int, int, int, int, int]: A tuple containing counts of first-person singular, first-person plural, second person, third-person singular, and third-person plural pronouns.\n",
    "    \"\"\"    \n",
    "    doc = nlp(text)\n",
    "    pronoun_counter = Counter(token.text.lower() for token in doc if token.pos_ == \"PRON\")\n",
    "    \n",
    "    first_person_singular_count = pronoun_counter[\"i\"]\n",
    "    first_person_plural_count = pronoun_counter[\"we\"]\n",
    "    second_person_singular_count = pronoun_counter[\"you\"]\n",
    "    third_person_singular_count = pronoun_counter[\"he\"] + pronoun_counter[\"she\"] + pronoun_counter[\"it\"]\n",
    "    third_person_plural_count = pronoun_counter[\"they\"]\n",
    "\n",
    "    return first_person_singular_count, first_person_plural_count, second_person_singular_count, third_person_singular_count, third_person_plural_count"
   ],
   "metadata": {
    "collapsed": false
   },
   "id": "e198b9a0ab624c26"
  },
  {
   "cell_type": "markdown",
   "source": [
    "## Processing the text data"
   ],
   "metadata": {
    "collapsed": false
   },
   "id": "37be4d17ea8bb1a5"
  },
  {
   "cell_type": "code",
   "execution_count": null,
   "outputs": [],
   "source": [
    "total_first_person_singular_count, total_first_person_plural_count, total_second_person_singular_count, total_third_person_singular_count, total_third_person_plural_count = 0, 0, 0, 0, 0\n",
    "\n",
    "# Iterating through each text in the 'text_hate' list (and 'text_no_hate' later)\n",
    "for text in tqdm(text_hate):\n",
    "    first_person_singular_count, first_person_plural_count, second_person_singular_count, third_person_singular_count, third_person_plural_count, past_count, present_count, future_count = get_pronouns_counts(text)\n",
    "    \n",
    "    total_first_person_singular_count += first_person_singular_count\n",
    "    total_first_person_plural_count += first_person_plural_count\n",
    "    total_second_person_singular_count += second_person_singular_count\n",
    "    total_third_person_singular_count += third_person_singular_count\n",
    "    total_third_person_plural_count += third_person_plural_count"
   ],
   "metadata": {
    "collapsed": false
   },
   "id": "15ec5c5207e29ccf"
  },
  {
   "cell_type": "markdown",
   "source": [
    "## Calculating the total count and the percentages of each verb tense"
   ],
   "metadata": {
    "collapsed": false
   },
   "id": "40037b8006177a41"
  },
  {
   "cell_type": "code",
   "execution_count": null,
   "outputs": [],
   "source": [
    "total_pronouns = (\n",
    "    total_first_person_singular_count +\n",
    "    total_first_person_plural_count +\n",
    "    total_second_person_singular_count +\n",
    "    total_third_person_singular_count +\n",
    "    total_third_person_plural_count\n",
    ")\n",
    "\n",
    "first_person_singular_percentage = (\n",
    "    (total_first_person_singular_count / total_pronouns) * 100\n",
    ") if total_pronouns > 0 else 0\n",
    "\n",
    "first_person_plural_percentage = (\n",
    "    (total_first_person_plural_count / total_pronouns) * 100\n",
    ") if total_pronouns > 0 else 0\n",
    "\n",
    "second_person_singular_percentage = (\n",
    "    (total_second_person_singular_count / total_pronouns) * 100\n",
    ") if total_pronouns > 0 else 0\n",
    "\n",
    "third_person_singular_percentage = (\n",
    "    (total_third_person_singular_count / total_pronouns) * 100\n",
    ") if total_pronouns > 0 else 0\n",
    "\n",
    "third_person_plural_percentage = (\n",
    "    (total_third_person_plural_count / total_pronouns) * 100\n",
    ") if total_pronouns > 0 else 0"
   ],
   "metadata": {
    "collapsed": false
   },
   "id": "264c3a17c5b3cfaa"
  },
  {
   "cell_type": "markdown",
   "source": [
    "## Printing metrics"
   ],
   "metadata": {
    "collapsed": false
   },
   "id": "2e913331063f2a92"
  },
  {
   "cell_type": "code",
   "execution_count": null,
   "outputs": [],
   "source": [
    "print(f\"Total Pronouns: {total_pronouns}\")\n",
    "print(f\"First Person Singular Percentage: {first_person_singular_percentage:.2f}%\")\n",
    "print(f\"First Person Plural Percentage: {first_person_plural_percentage:.2f}%\")\n",
    "print(f\"Second Person Singular Percentage: {second_person_singular_percentage:.2f}%\")\n",
    "print(f\"Third Person Singular Percentage: {third_person_singular_percentage:.2f}%\")\n",
    "print(f\"Third Person Plural Percentage: {third_person_plural_percentage:.2f}%\")"
   ],
   "metadata": {
    "collapsed": false
   },
   "id": "bd240c54d61054ea"
  }
 ],
 "metadata": {
  "kernelspec": {
   "display_name": "Python 3",
   "language": "python",
   "name": "python3"
  },
  "language_info": {
   "codemirror_mode": {
    "name": "ipython",
    "version": 2
   },
   "file_extension": ".py",
   "mimetype": "text/x-python",
   "name": "python",
   "nbconvert_exporter": "python",
   "pygments_lexer": "ipython2",
   "version": "2.7.6"
  }
 },
 "nbformat": 4,
 "nbformat_minor": 5
}
